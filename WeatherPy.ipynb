{
 "cells": [
  {
   "cell_type": "markdown",
   "metadata": {},
   "source": [
    "# Observations\n",
    "1. The temperature (max temperature) is higher the closer you get to the equator. We see this in our Latitude vs Temperature plot. \n",
    "2. There is no coorelation between humidity and latitude. We see this on all three of our plots comparing latitude and humidity.\n",
    "3. "
   ]
  },
  {
   "cell_type": "code",
   "execution_count": 1,
   "metadata": {},
   "outputs": [],
   "source": [
    "#Dependencies\n",
    "import matplotlib.pyplot as plt\n",
    "import pandas as pd\n",
    "import numpy as np\n",
    "import requests\n",
    "import time\n",
    "from scipy.stats import linregress\n",
    "\n",
    "#Import API key\n",
    "#from api_keys import weather_api_key\n",
    "api_key = \"\"\n",
    "\n",
    "\n",
    "#Incorporated citipy to determine city based on latitude and longitude\n",
    "from citipy import citipy\n",
    "\n",
    "#Output File (CSV)\n",
    "output_data_file = \"../../../../working/06-Python-APIs/Homework/Instructions/output_data/cities.csv\"\n",
    "\n",
    "#Range of latitudes and longitudes\n",
    "lat_range = (-90, 90)\n",
    "lng_range = (-180, 180)"
   ]
  },
  {
   "cell_type": "code",
   "execution_count": 2,
   "metadata": {},
   "outputs": [
    {
     "data": {
      "text/html": [
       "<div>\n",
       "<style scoped>\n",
       "    .dataframe tbody tr th:only-of-type {\n",
       "        vertical-align: middle;\n",
       "    }\n",
       "\n",
       "    .dataframe tbody tr th {\n",
       "        vertical-align: top;\n",
       "    }\n",
       "\n",
       "    .dataframe thead th {\n",
       "        text-align: right;\n",
       "    }\n",
       "</style>\n",
       "<table border=\"1\" class=\"dataframe\">\n",
       "  <thead>\n",
       "    <tr style=\"text-align: right;\">\n",
       "      <th></th>\n",
       "      <th>City_ID</th>\n",
       "      <th>City</th>\n",
       "      <th>Cloudiness</th>\n",
       "      <th>Country</th>\n",
       "      <th>Date</th>\n",
       "      <th>Humidity</th>\n",
       "      <th>Lat</th>\n",
       "      <th>Lng</th>\n",
       "      <th>Max Temp</th>\n",
       "      <th>Wind Speed</th>\n",
       "    </tr>\n",
       "  </thead>\n",
       "  <tbody>\n",
       "    <tr>\n",
       "      <th>0</th>\n",
       "      <td>0</td>\n",
       "      <td>ostrovnoy</td>\n",
       "      <td>2</td>\n",
       "      <td>RU</td>\n",
       "      <td>1558378754</td>\n",
       "      <td>72</td>\n",
       "      <td>68.05</td>\n",
       "      <td>39.51</td>\n",
       "      <td>37.50</td>\n",
       "      <td>7.16</td>\n",
       "    </tr>\n",
       "    <tr>\n",
       "      <th>1</th>\n",
       "      <td>1</td>\n",
       "      <td>mahebourg</td>\n",
       "      <td>75</td>\n",
       "      <td>MU</td>\n",
       "      <td>1558378503</td>\n",
       "      <td>74</td>\n",
       "      <td>-20.41</td>\n",
       "      <td>57.70</td>\n",
       "      <td>78.80</td>\n",
       "      <td>11.41</td>\n",
       "    </tr>\n",
       "    <tr>\n",
       "      <th>2</th>\n",
       "      <td>2</td>\n",
       "      <td>qaanaaq</td>\n",
       "      <td>25</td>\n",
       "      <td>GL</td>\n",
       "      <td>1558378755</td>\n",
       "      <td>73</td>\n",
       "      <td>77.48</td>\n",
       "      <td>-69.36</td>\n",
       "      <td>22.20</td>\n",
       "      <td>2.37</td>\n",
       "    </tr>\n",
       "    <tr>\n",
       "      <th>3</th>\n",
       "      <td>3</td>\n",
       "      <td>zhuhai</td>\n",
       "      <td>0</td>\n",
       "      <td>CN</td>\n",
       "      <td>1558378755</td>\n",
       "      <td>39</td>\n",
       "      <td>40.71</td>\n",
       "      <td>112.04</td>\n",
       "      <td>44.60</td>\n",
       "      <td>4.47</td>\n",
       "    </tr>\n",
       "    <tr>\n",
       "      <th>4</th>\n",
       "      <td>4</td>\n",
       "      <td>cape town</td>\n",
       "      <td>20</td>\n",
       "      <td>ZA</td>\n",
       "      <td>1558378755</td>\n",
       "      <td>76</td>\n",
       "      <td>-33.93</td>\n",
       "      <td>18.42</td>\n",
       "      <td>55.99</td>\n",
       "      <td>8.05</td>\n",
       "    </tr>\n",
       "  </tbody>\n",
       "</table>\n",
       "</div>"
      ],
      "text/plain": [
       "   City_ID       City  Cloudiness Country        Date  Humidity    Lat  \\\n",
       "0        0  ostrovnoy           2      RU  1558378754        72  68.05   \n",
       "1        1  mahebourg          75      MU  1558378503        74 -20.41   \n",
       "2        2    qaanaaq          25      GL  1558378755        73  77.48   \n",
       "3        3     zhuhai           0      CN  1558378755        39  40.71   \n",
       "4        4  cape town          20      ZA  1558378755        76 -33.93   \n",
       "\n",
       "      Lng  Max Temp  Wind Speed  \n",
       "0   39.51     37.50        7.16  \n",
       "1   57.70     78.80       11.41  \n",
       "2  -69.36     22.20        2.37  \n",
       "3  112.04     44.60        4.47  \n",
       "4   18.42     55.99        8.05  "
      ]
     },
     "execution_count": 2,
     "metadata": {},
     "output_type": "execute_result"
    }
   ],
   "source": [
    "#Put out data into a dataframe so we can see it\n",
    "output_data_file_df = pd.read_csv(output_data_file)\n",
    "output_data_file_df.head()"
   ]
  },
  {
   "cell_type": "markdown",
   "metadata": {},
   "source": [
    "# Generate Cities List"
   ]
  },
  {
   "cell_type": "code",
   "execution_count": 3,
   "metadata": {},
   "outputs": [],
   "source": [
    "#Create empty lists to hold lat_longs and cities\n",
    "lat_lngs = []\n",
    "cities = []"
   ]
  },
  {
   "cell_type": "code",
   "execution_count": 4,
   "metadata": {},
   "outputs": [],
   "source": [
    "#Create a set of random latitude and longitude coordinates\n",
    "lats = np.random.uniform(lat_range[0], lat_range[1], size = 20)\n",
    "lngs = np.random.uniform(lng_range[0], lng_range[1], size = 20)\n",
    "lat_lngs = zip(lats, lngs)"
   ]
  },
  {
   "cell_type": "code",
   "execution_count": 5,
   "metadata": {},
   "outputs": [
    {
     "data": {
      "text/plain": [
       "19"
      ]
     },
     "execution_count": 5,
     "metadata": {},
     "output_type": "execute_result"
    }
   ],
   "source": [
    "#Identify nearest city for each lat, long coordinate\n",
    "for lat_lng in lat_lngs:\n",
    "    city = citipy.nearest_city(lat_lng[0], lat_lng[1]).city_name\n",
    "    \n",
    "    #If the city name is not already in our cities list, add it\n",
    "    if city not in cities:\n",
    "        cities.append(city)\n",
    "        \n",
    "len(cities)"
   ]
  },
  {
   "cell_type": "code",
   "execution_count": 6,
   "metadata": {},
   "outputs": [],
   "source": [
    "#API Call for our cities\n",
    "url = \"http://api.openweathermap.org/data/2.5/weather?\"\n",
    "units = \"metric\"\n",
    "\n",
    "# Build partial query URL that we will use in our for loop\n",
    "query_url = f\"{url}appid={api_key}&units={units}&q=\" "
   ]
  },
  {
   "cell_type": "code",
   "execution_count": 7,
   "metadata": {},
   "outputs": [
    {
     "name": "stdout",
     "output_type": "stream",
     "text": [
      "Processing 0 of Set 1 | barra do garcas\n",
      "Processing 1 of Set 1 | pisco\n",
      "Processing 2 of Set 1 | upernavik\n",
      "Processing 3 of Set 1 | kotma\n",
      "Processing 4 of Set 1 | bengkulu\n",
      "Processing 5 of Set 1 | umzimvubu\n",
      "City not found. Skipping...\n",
      "Processing 6 of Set 1 | avarua\n",
      "Processing 7 of Set 1 | geraldton\n",
      "Processing 8 of Set 1 | ambanja\n",
      "Processing 9 of Set 1 | alofi\n",
      "Processing 0 of Set 2 | cape town\n",
      "Processing 1 of Set 2 | mount gambier\n",
      "Processing 2 of Set 2 | kruisfontein\n",
      "Processing 3 of Set 2 | attawapiskat\n",
      "City not found. Skipping...\n",
      "Processing 4 of Set 2 | lebu\n",
      "Processing 5 of Set 2 | tuktoyaktuk\n",
      "Processing 6 of Set 2 | oussouye\n",
      "Processing 7 of Set 2 | codrington\n",
      "Processing 8 of Set 2 | mar del plata\n"
     ]
    }
   ],
   "source": [
    "#Creating empty lists to add info from our API to convert to a dataframe\n",
    "lat = []\n",
    "lng = []\n",
    "max_temp = []\n",
    "humidity = []\n",
    "cloud = []\n",
    "wind_speed = []\n",
    "country = []\n",
    "date = []\n",
    "new_cities = []\n",
    "\n",
    "#Start count and set count for our city output\n",
    "count = 0\n",
    "set_count = 1\n",
    "\n",
    "#Creating a for loop to generate the url for all of our cities and store data\n",
    "for city in cities:\n",
    "    \n",
    "    try:\n",
    "        #Finding url for all of our cities\n",
    "        response = requests.get(query_url + city)\n",
    "        response_json = response.json()\n",
    "\n",
    "        #Printing our cities\n",
    "        print(f\"Processing {count} of Set {set_count} | {city}\")\n",
    "        \n",
    "        #Adjusting counter for our count and set count\n",
    "        count += 1\n",
    "        if count == 10:\n",
    "            count = 0\n",
    "            set_count += 1\n",
    "          \n",
    "        #Adding to our lists for our dataframe\n",
    "        lat.append(response_json['coord']['lat'])\n",
    "        lng.append(response_json['coord']['lon'])\n",
    "        max_temp.append(response_json['main']['temp_max'])\n",
    "        humidity.append(response_json['main']['humidity'])\n",
    "        cloud.append(response_json['clouds']['all'])\n",
    "        wind_speed.append(response_json['wind']['speed'])\n",
    "        country.append(response_json['sys']['country'])\n",
    "        date.append(response_json['dt'])\n",
    "        new_cities.append(response_json['name'])\n",
    "    \n",
    "    #Passing on cities that are not found \n",
    "    except:\n",
    "        pass\n",
    "        print(\"City not found. Skipping...\")\n"
   ]
  },
  {
   "cell_type": "code",
   "execution_count": 8,
   "metadata": {},
   "outputs": [
    {
     "data": {
      "text/html": [
       "<div>\n",
       "<style scoped>\n",
       "    .dataframe tbody tr th:only-of-type {\n",
       "        vertical-align: middle;\n",
       "    }\n",
       "\n",
       "    .dataframe tbody tr th {\n",
       "        vertical-align: top;\n",
       "    }\n",
       "\n",
       "    .dataframe thead th {\n",
       "        text-align: right;\n",
       "    }\n",
       "</style>\n",
       "<table border=\"1\" class=\"dataframe\">\n",
       "  <thead>\n",
       "    <tr style=\"text-align: right;\">\n",
       "      <th></th>\n",
       "      <th>City</th>\n",
       "      <th>Lat</th>\n",
       "      <th>Lng</th>\n",
       "      <th>Max Temp</th>\n",
       "      <th>Humidity</th>\n",
       "      <th>Cloudiness</th>\n",
       "      <th>Wind Speed</th>\n",
       "      <th>Country</th>\n",
       "      <th>Date</th>\n",
       "    </tr>\n",
       "  </thead>\n",
       "  <tbody>\n",
       "    <tr>\n",
       "      <th>0</th>\n",
       "      <td>Barra do Garças</td>\n",
       "      <td>-15.8900</td>\n",
       "      <td>-52.2567</td>\n",
       "      <td>27.00</td>\n",
       "      <td>65</td>\n",
       "      <td>0</td>\n",
       "      <td>0.75</td>\n",
       "      <td>BR</td>\n",
       "      <td>1619824090</td>\n",
       "    </tr>\n",
       "    <tr>\n",
       "      <th>1</th>\n",
       "      <td>Pisco</td>\n",
       "      <td>-13.7000</td>\n",
       "      <td>-76.2167</td>\n",
       "      <td>20.00</td>\n",
       "      <td>77</td>\n",
       "      <td>0</td>\n",
       "      <td>7.72</td>\n",
       "      <td>PE</td>\n",
       "      <td>1619824090</td>\n",
       "    </tr>\n",
       "    <tr>\n",
       "      <th>2</th>\n",
       "      <td>Upernavik</td>\n",
       "      <td>72.7868</td>\n",
       "      <td>-56.1549</td>\n",
       "      <td>-1.68</td>\n",
       "      <td>80</td>\n",
       "      <td>100</td>\n",
       "      <td>2.28</td>\n",
       "      <td>GL</td>\n",
       "      <td>1619823870</td>\n",
       "    </tr>\n",
       "    <tr>\n",
       "      <th>3</th>\n",
       "      <td>Kotma</td>\n",
       "      <td>23.2000</td>\n",
       "      <td>81.9667</td>\n",
       "      <td>24.58</td>\n",
       "      <td>17</td>\n",
       "      <td>7</td>\n",
       "      <td>1.34</td>\n",
       "      <td>IN</td>\n",
       "      <td>1619823969</td>\n",
       "    </tr>\n",
       "    <tr>\n",
       "      <th>4</th>\n",
       "      <td>Bengkulu</td>\n",
       "      <td>-3.8004</td>\n",
       "      <td>102.2655</td>\n",
       "      <td>23.69</td>\n",
       "      <td>88</td>\n",
       "      <td>95</td>\n",
       "      <td>2.21</td>\n",
       "      <td>ID</td>\n",
       "      <td>1619824091</td>\n",
       "    </tr>\n",
       "    <tr>\n",
       "      <th>5</th>\n",
       "      <td>Avarua</td>\n",
       "      <td>-21.2078</td>\n",
       "      <td>-159.7750</td>\n",
       "      <td>27.00</td>\n",
       "      <td>74</td>\n",
       "      <td>40</td>\n",
       "      <td>3.09</td>\n",
       "      <td>CK</td>\n",
       "      <td>1619824091</td>\n",
       "    </tr>\n",
       "    <tr>\n",
       "      <th>6</th>\n",
       "      <td>Geraldton</td>\n",
       "      <td>-28.7667</td>\n",
       "      <td>114.6000</td>\n",
       "      <td>11.00</td>\n",
       "      <td>62</td>\n",
       "      <td>41</td>\n",
       "      <td>3.60</td>\n",
       "      <td>AU</td>\n",
       "      <td>1619823858</td>\n",
       "    </tr>\n",
       "    <tr>\n",
       "      <th>7</th>\n",
       "      <td>Ambanja</td>\n",
       "      <td>-13.6833</td>\n",
       "      <td>48.4500</td>\n",
       "      <td>23.38</td>\n",
       "      <td>92</td>\n",
       "      <td>9</td>\n",
       "      <td>1.47</td>\n",
       "      <td>MG</td>\n",
       "      <td>1619824092</td>\n",
       "    </tr>\n",
       "    <tr>\n",
       "      <th>8</th>\n",
       "      <td>Alofi</td>\n",
       "      <td>-19.0595</td>\n",
       "      <td>-169.9187</td>\n",
       "      <td>28.00</td>\n",
       "      <td>78</td>\n",
       "      <td>75</td>\n",
       "      <td>1.03</td>\n",
       "      <td>NU</td>\n",
       "      <td>1619824092</td>\n",
       "    </tr>\n",
       "    <tr>\n",
       "      <th>9</th>\n",
       "      <td>Cape Town</td>\n",
       "      <td>-33.9258</td>\n",
       "      <td>18.4232</td>\n",
       "      <td>14.44</td>\n",
       "      <td>77</td>\n",
       "      <td>0</td>\n",
       "      <td>4.63</td>\n",
       "      <td>ZA</td>\n",
       "      <td>1619823510</td>\n",
       "    </tr>\n",
       "    <tr>\n",
       "      <th>10</th>\n",
       "      <td>Mount Gambier</td>\n",
       "      <td>-37.8333</td>\n",
       "      <td>140.7667</td>\n",
       "      <td>14.00</td>\n",
       "      <td>54</td>\n",
       "      <td>100</td>\n",
       "      <td>4.12</td>\n",
       "      <td>AU</td>\n",
       "      <td>1619823723</td>\n",
       "    </tr>\n",
       "    <tr>\n",
       "      <th>11</th>\n",
       "      <td>Kruisfontein</td>\n",
       "      <td>-34.0033</td>\n",
       "      <td>24.7314</td>\n",
       "      <td>11.47</td>\n",
       "      <td>70</td>\n",
       "      <td>0</td>\n",
       "      <td>2.97</td>\n",
       "      <td>ZA</td>\n",
       "      <td>1619823735</td>\n",
       "    </tr>\n",
       "    <tr>\n",
       "      <th>12</th>\n",
       "      <td>Lebu</td>\n",
       "      <td>-37.6167</td>\n",
       "      <td>-73.6500</td>\n",
       "      <td>13.56</td>\n",
       "      <td>90</td>\n",
       "      <td>100</td>\n",
       "      <td>10.19</td>\n",
       "      <td>CL</td>\n",
       "      <td>1619823677</td>\n",
       "    </tr>\n",
       "    <tr>\n",
       "      <th>13</th>\n",
       "      <td>Tuktoyaktuk</td>\n",
       "      <td>69.4541</td>\n",
       "      <td>-133.0374</td>\n",
       "      <td>-6.00</td>\n",
       "      <td>79</td>\n",
       "      <td>20</td>\n",
       "      <td>4.63</td>\n",
       "      <td>CA</td>\n",
       "      <td>1619823696</td>\n",
       "    </tr>\n",
       "    <tr>\n",
       "      <th>14</th>\n",
       "      <td>Oussouye</td>\n",
       "      <td>12.4850</td>\n",
       "      <td>-16.5469</td>\n",
       "      <td>25.00</td>\n",
       "      <td>88</td>\n",
       "      <td>0</td>\n",
       "      <td>4.12</td>\n",
       "      <td>SN</td>\n",
       "      <td>1619824047</td>\n",
       "    </tr>\n",
       "    <tr>\n",
       "      <th>15</th>\n",
       "      <td>Codrington</td>\n",
       "      <td>-38.2667</td>\n",
       "      <td>141.9667</td>\n",
       "      <td>17.57</td>\n",
       "      <td>46</td>\n",
       "      <td>100</td>\n",
       "      <td>5.56</td>\n",
       "      <td>AU</td>\n",
       "      <td>1619823754</td>\n",
       "    </tr>\n",
       "    <tr>\n",
       "      <th>16</th>\n",
       "      <td>Mar del Plata</td>\n",
       "      <td>-38.0023</td>\n",
       "      <td>-57.5575</td>\n",
       "      <td>17.00</td>\n",
       "      <td>77</td>\n",
       "      <td>0</td>\n",
       "      <td>3.09</td>\n",
       "      <td>AR</td>\n",
       "      <td>1619823600</td>\n",
       "    </tr>\n",
       "  </tbody>\n",
       "</table>\n",
       "</div>"
      ],
      "text/plain": [
       "               City      Lat       Lng  Max Temp  Humidity  Cloudiness  \\\n",
       "0   Barra do Garças -15.8900  -52.2567     27.00        65           0   \n",
       "1             Pisco -13.7000  -76.2167     20.00        77           0   \n",
       "2         Upernavik  72.7868  -56.1549     -1.68        80         100   \n",
       "3             Kotma  23.2000   81.9667     24.58        17           7   \n",
       "4          Bengkulu  -3.8004  102.2655     23.69        88          95   \n",
       "5            Avarua -21.2078 -159.7750     27.00        74          40   \n",
       "6         Geraldton -28.7667  114.6000     11.00        62          41   \n",
       "7           Ambanja -13.6833   48.4500     23.38        92           9   \n",
       "8             Alofi -19.0595 -169.9187     28.00        78          75   \n",
       "9         Cape Town -33.9258   18.4232     14.44        77           0   \n",
       "10    Mount Gambier -37.8333  140.7667     14.00        54         100   \n",
       "11     Kruisfontein -34.0033   24.7314     11.47        70           0   \n",
       "12             Lebu -37.6167  -73.6500     13.56        90         100   \n",
       "13      Tuktoyaktuk  69.4541 -133.0374     -6.00        79          20   \n",
       "14         Oussouye  12.4850  -16.5469     25.00        88           0   \n",
       "15       Codrington -38.2667  141.9667     17.57        46         100   \n",
       "16    Mar del Plata -38.0023  -57.5575     17.00        77           0   \n",
       "\n",
       "    Wind Speed Country        Date  \n",
       "0         0.75      BR  1619824090  \n",
       "1         7.72      PE  1619824090  \n",
       "2         2.28      GL  1619823870  \n",
       "3         1.34      IN  1619823969  \n",
       "4         2.21      ID  1619824091  \n",
       "5         3.09      CK  1619824091  \n",
       "6         3.60      AU  1619823858  \n",
       "7         1.47      MG  1619824092  \n",
       "8         1.03      NU  1619824092  \n",
       "9         4.63      ZA  1619823510  \n",
       "10        4.12      AU  1619823723  \n",
       "11        2.97      ZA  1619823735  \n",
       "12       10.19      CL  1619823677  \n",
       "13        4.63      CA  1619823696  \n",
       "14        4.12      SN  1619824047  \n",
       "15        5.56      AU  1619823754  \n",
       "16        3.09      AR  1619823600  "
      ]
     },
     "execution_count": 8,
     "metadata": {},
     "output_type": "execute_result"
    }
   ],
   "source": [
    "#Create a dataframe with city information\n",
    "\n",
    "city_df = pd.DataFrame(\n",
    "    {\"City\": new_cities,\n",
    "     \"Lat\": lat,\n",
    "     \"Lng\": lng,\n",
    "     \"Max Temp\": max_temp,\n",
    "     \"Humidity\": humidity,\n",
    "     \"Cloudiness\": cloud,\n",
    "     \"Wind Speed\": wind_speed,\n",
    "     \"Country\": country,\n",
    "     \"Date\": date\n",
    "    }      \n",
    ")\n",
    "\n",
    "city_df"
   ]
  },
  {
   "cell_type": "code",
   "execution_count": 12,
   "metadata": {},
   "outputs": [],
   "source": [
    "#city_df.to_csv(\"city_info.csv\", encoding=\"utf-8\", index = False)\n"
   ]
  },
  {
   "cell_type": "code",
   "execution_count": 13,
   "metadata": {},
   "outputs": [
    {
     "data": {
      "text/html": [
       "<div>\n",
       "<style scoped>\n",
       "    .dataframe tbody tr th:only-of-type {\n",
       "        vertical-align: middle;\n",
       "    }\n",
       "\n",
       "    .dataframe tbody tr th {\n",
       "        vertical-align: top;\n",
       "    }\n",
       "\n",
       "    .dataframe thead th {\n",
       "        text-align: right;\n",
       "    }\n",
       "</style>\n",
       "<table border=\"1\" class=\"dataframe\">\n",
       "  <thead>\n",
       "    <tr style=\"text-align: right;\">\n",
       "      <th></th>\n",
       "      <th>City</th>\n",
       "      <th>Lat</th>\n",
       "      <th>Lng</th>\n",
       "      <th>Max Temp</th>\n",
       "      <th>Humidity</th>\n",
       "      <th>Cloudiness</th>\n",
       "      <th>Wind Speed</th>\n",
       "      <th>Country</th>\n",
       "      <th>Date</th>\n",
       "    </tr>\n",
       "  </thead>\n",
       "  <tbody>\n",
       "  </tbody>\n",
       "</table>\n",
       "</div>"
      ],
      "text/plain": [
       "Empty DataFrame\n",
       "Columns: [City, Lat, Lng, Max Temp, Humidity, Cloudiness, Wind Speed, Country, Date]\n",
       "Index: []"
      ]
     },
     "execution_count": 13,
     "metadata": {},
     "output_type": "execute_result"
    }
   ],
   "source": [
    "#Determining if any of our cities have over 100% humidity\n",
    "humidity_percent = city_df.loc[city_df[\"Humidity\"] > 100]\n",
    "humidity_percent"
   ]
  },
  {
   "cell_type": "code",
   "execution_count": 14,
   "metadata": {},
   "outputs": [],
   "source": [
    "#If there is humidity over 100, drop it"
   ]
  },
  {
   "cell_type": "markdown",
   "metadata": {},
   "source": [
    "# Plots"
   ]
  },
  {
   "cell_type": "markdown",
   "metadata": {},
   "source": [
    "### Latitude and Max Temp"
   ]
  },
  {
   "cell_type": "code",
   "execution_count": 18,
   "metadata": {},
   "outputs": [
    {
     "data": {
      "text/plain": [
       "Text(0, 0.5, 'Max Temperature')"
      ]
     },
     "execution_count": 18,
     "metadata": {},
     "output_type": "execute_result"
    },
    {
     "data": {
      "image/png": "[encoded data removed]",
      "text/plain": [
       "<Figure size 432x288 with 1 Axes>"
      ]
     },
     "metadata": {
      "needs_background": "light"
     },
     "output_type": "display_data"
    }
   ],
   "source": [
    "#Scatter plot for latitude and max temp\n",
    "plt.scatter(city_df[\"Lat\"], city_df[\"Max Temp\"])\n",
    "plt.xlabel(\"Latitude\")\n",
    "plt.ylabel(\"Max Temperature\")\n",
    "plt.title(\"City Latitude vs Max Temperature (C)\")"
   ]
  },
  {
   "cell_type": "markdown",
   "metadata": {},
   "source": [
    "### Observations for Latitude and Max Temp\n",
    "As the latitude gets closer to 0, the temperate increases. Then as the latitude increases, the max temperature decreases. What this is telling us is that as you get closer to the equator the max temperate increases and as you get farther away the max temperature is lower."
   ]
  },
  {
   "cell_type": "markdown",
   "metadata": {},
   "source": [
    "### Latitude and Percent Humidity"
   ]
  },
  {
   "cell_type": "code",
   "execution_count": 9,
   "metadata": {},
   "outputs": [
    {
     "data": {
      "text/plain": [
       "Text(0, 0.5, 'Percent Humidity')"
      ]
     },
     "execution_count": 9,
     "metadata": {},
     "output_type": "execute_result"
    },
    {
     "data": {
      "image/png": "[encoded data removed]",
      "text/plain": [
       "<Figure size 432x288 with 1 Axes>"
      ]
     },
     "metadata": {
      "needs_background": "light"
     },
     "output_type": "display_data"
    }
   ],
   "source": [
    "#Scatter plot for Lat and humidity\n",
    "plt.scatter(city_df[\"Lat\"], city_df[\"Humidity\"])\n",
    "plt.xlabel(\"Latitude\")\n",
    "plt.ylabel(\"Percent Humidity\")\n",
    "plt.title(\"City Latitude vs Percent Humidity\")"
   ]
  },
  {
   "cell_type": "markdown",
   "metadata": {},
   "source": [
    "### Observation for Latitude and Percent Humidity\n",
    "As the you get closer to the equator the percent humidity is lower and as you go farther away the humidity gets higher."
   ]
  },
  {
   "cell_type": "markdown",
   "metadata": {},
   "source": [
    "### Latitude and Percent Cloudiness"
   ]
  },
  {
   "cell_type": "code",
   "execution_count": 11,
   "metadata": {},
   "outputs": [
    {
     "data": {
      "text/plain": [
       "Text(0, 0.5, 'Percent Cloudiness')"
      ]
     },
     "execution_count": 11,
     "metadata": {},
     "output_type": "execute_result"
    },
    {
     "data": {
      "image/png": "[encoded data removed]",
      "text/plain": [
       "<Figure size 432x288 with 1 Axes>"
      ]
     },
     "metadata": {
      "needs_background": "light"
     },
     "output_type": "display_data"
    }
   ],
   "source": [
    "#Scatter plot for Lat and cloudiness\n",
    "plt.scatter(city_df[\"Lat\"], city_df[\"Cloudiness\"])\n",
    "plt.xlabel(\"Latitude\")\n",
    "plt.ylabel(\"Percent Cloudiness\")\n",
    "plt.title(\"City Latitude vs Percent Cloudiness\")"
   ]
  },
  {
   "cell_type": "markdown",
   "metadata": {},
   "source": [
    "### Observation for Latitude and Percent Cloudiness\n",
    "There is no coorelation between latitude and percent cloudiness."
   ]
  },
  {
   "cell_type": "markdown",
   "metadata": {},
   "source": [
    "### Latitude and Wind Speed"
   ]
  },
  {
   "cell_type": "code",
   "execution_count": 12,
   "metadata": {},
   "outputs": [
    {
     "data": {
      "text/plain": [
       "Text(0, 0.5, 'Wind Speed')"
      ]
     },
     "execution_count": 12,
     "metadata": {},
     "output_type": "execute_result"
    },
    {
     "data": {
      "image/png": "[encoded data removed]",
      "text/plain": [
       "<Figure size 432x288 with 1 Axes>"
      ]
     },
     "metadata": {
      "needs_background": "light"
     },
     "output_type": "display_data"
    }
   ],
   "source": [
    "#Scatter plot for Lat and wind speed\n",
    "plt.scatter(city_df[\"Lat\"], city_df[\"Wind Speed\"])\n",
    "plt.xlabel(\"Latitude\")\n",
    "plt.ylabel(\"Wind Speed\")\n",
    "plt.title(\"City Latitude vs Wind Speed (mph)\")"
   ]
  },
  {
   "cell_type": "markdown",
   "metadata": {},
   "source": [
    "### Observations of Latitude and Wind Speed\n",
    "There is little to no coorelation between latitude and wind speed. As the latitude gets close to 40 and increases, there are more cities with higher wind speeds. However, overall there is not a strong coorelation."
   ]
  },
  {
   "cell_type": "code",
   "execution_count": 27,
   "metadata": {},
   "outputs": [
    {
     "data": {
      "text/html": [
       "<div>\n",
       "<style scoped>\n",
       "    .dataframe tbody tr th:only-of-type {\n",
       "        vertical-align: middle;\n",
       "    }\n",
       "\n",
       "    .dataframe tbody tr th {\n",
       "        vertical-align: top;\n",
       "    }\n",
       "\n",
       "    .dataframe thead th {\n",
       "        text-align: right;\n",
       "    }\n",
       "</style>\n",
       "<table border=\"1\" class=\"dataframe\">\n",
       "  <thead>\n",
       "    <tr style=\"text-align: right;\">\n",
       "      <th></th>\n",
       "      <th>City</th>\n",
       "      <th>Lat</th>\n",
       "      <th>Lng</th>\n",
       "      <th>Max Temp</th>\n",
       "      <th>Humidity</th>\n",
       "      <th>Cloudiness</th>\n",
       "      <th>Wind Speed</th>\n",
       "      <th>Country</th>\n",
       "      <th>Date</th>\n",
       "    </tr>\n",
       "  </thead>\n",
       "  <tbody>\n",
       "    <tr>\n",
       "      <th>3</th>\n",
       "      <td>Mogadishu</td>\n",
       "      <td>2.0371</td>\n",
       "      <td>45.3438</td>\n",
       "      <td>28.26</td>\n",
       "      <td>75</td>\n",
       "      <td>39</td>\n",
       "      <td>4.88</td>\n",
       "      <td>SO</td>\n",
       "      <td>1619556242</td>\n",
       "    </tr>\n",
       "    <tr>\n",
       "      <th>5</th>\n",
       "      <td>Belle Fourche</td>\n",
       "      <td>44.6714</td>\n",
       "      <td>-103.8522</td>\n",
       "      <td>9.00</td>\n",
       "      <td>71</td>\n",
       "      <td>100</td>\n",
       "      <td>1.54</td>\n",
       "      <td>US</td>\n",
       "      <td>1619556366</td>\n",
       "    </tr>\n",
       "    <tr>\n",
       "      <th>6</th>\n",
       "      <td>Longyearbyen</td>\n",
       "      <td>78.2186</td>\n",
       "      <td>15.6401</td>\n",
       "      <td>-8.00</td>\n",
       "      <td>62</td>\n",
       "      <td>75</td>\n",
       "      <td>1.54</td>\n",
       "      <td>SJ</td>\n",
       "      <td>1619556417</td>\n",
       "    </tr>\n",
       "    <tr>\n",
       "      <th>7</th>\n",
       "      <td>Albany</td>\n",
       "      <td>42.6001</td>\n",
       "      <td>-73.9662</td>\n",
       "      <td>20.00</td>\n",
       "      <td>19</td>\n",
       "      <td>93</td>\n",
       "      <td>0.92</td>\n",
       "      <td>US</td>\n",
       "      <td>1619556004</td>\n",
       "    </tr>\n",
       "    <tr>\n",
       "      <th>9</th>\n",
       "      <td>Vila Franca do Campo</td>\n",
       "      <td>37.7167</td>\n",
       "      <td>-25.4333</td>\n",
       "      <td>15.00</td>\n",
       "      <td>82</td>\n",
       "      <td>75</td>\n",
       "      <td>4.63</td>\n",
       "      <td>PT</td>\n",
       "      <td>1619556266</td>\n",
       "    </tr>\n",
       "    <tr>\n",
       "      <th>12</th>\n",
       "      <td>Kapaa</td>\n",
       "      <td>22.0752</td>\n",
       "      <td>-159.3190</td>\n",
       "      <td>26.67</td>\n",
       "      <td>83</td>\n",
       "      <td>1</td>\n",
       "      <td>2.57</td>\n",
       "      <td>US</td>\n",
       "      <td>1619556149</td>\n",
       "    </tr>\n",
       "    <tr>\n",
       "      <th>13</th>\n",
       "      <td>Torbay</td>\n",
       "      <td>47.6666</td>\n",
       "      <td>-52.7314</td>\n",
       "      <td>8.00</td>\n",
       "      <td>93</td>\n",
       "      <td>90</td>\n",
       "      <td>5.14</td>\n",
       "      <td>CA</td>\n",
       "      <td>1619556510</td>\n",
       "    </tr>\n",
       "    <tr>\n",
       "      <th>14</th>\n",
       "      <td>Cabo San Lucas</td>\n",
       "      <td>22.8909</td>\n",
       "      <td>-109.9124</td>\n",
       "      <td>27.78</td>\n",
       "      <td>49</td>\n",
       "      <td>1</td>\n",
       "      <td>10.29</td>\n",
       "      <td>MX</td>\n",
       "      <td>1619556209</td>\n",
       "    </tr>\n",
       "    <tr>\n",
       "      <th>15</th>\n",
       "      <td>Bratsk</td>\n",
       "      <td>56.1325</td>\n",
       "      <td>101.6142</td>\n",
       "      <td>-2.00</td>\n",
       "      <td>37</td>\n",
       "      <td>10</td>\n",
       "      <td>2.00</td>\n",
       "      <td>RU</td>\n",
       "      <td>1619556267</td>\n",
       "    </tr>\n",
       "    <tr>\n",
       "      <th>16</th>\n",
       "      <td>Clyde River</td>\n",
       "      <td>70.4692</td>\n",
       "      <td>-68.5914</td>\n",
       "      <td>-1.00</td>\n",
       "      <td>69</td>\n",
       "      <td>40</td>\n",
       "      <td>5.14</td>\n",
       "      <td>CA</td>\n",
       "      <td>1619556268</td>\n",
       "    </tr>\n",
       "  </tbody>\n",
       "</table>\n",
       "</div>"
      ],
      "text/plain": [
       "                    City      Lat       Lng  Max Temp  Humidity  Cloudiness  \\\n",
       "3              Mogadishu   2.0371   45.3438     28.26        75          39   \n",
       "5          Belle Fourche  44.6714 -103.8522      9.00        71         100   \n",
       "6           Longyearbyen  78.2186   15.6401     -8.00        62          75   \n",
       "7                 Albany  42.6001  -73.9662     20.00        19          93   \n",
       "9   Vila Franca do Campo  37.7167  -25.4333     15.00        82          75   \n",
       "12                 Kapaa  22.0752 -159.3190     26.67        83           1   \n",
       "13                Torbay  47.6666  -52.7314      8.00        93          90   \n",
       "14        Cabo San Lucas  22.8909 -109.9124     27.78        49           1   \n",
       "15                Bratsk  56.1325  101.6142     -2.00        37          10   \n",
       "16           Clyde River  70.4692  -68.5914     -1.00        69          40   \n",
       "\n",
       "    Wind Speed Country        Date  \n",
       "3         4.88      SO  1619556242  \n",
       "5         1.54      US  1619556366  \n",
       "6         1.54      SJ  1619556417  \n",
       "7         0.92      US  1619556004  \n",
       "9         4.63      PT  1619556266  \n",
       "12        2.57      US  1619556149  \n",
       "13        5.14      CA  1619556510  \n",
       "14       10.29      MX  1619556209  \n",
       "15        2.00      RU  1619556267  \n",
       "16        5.14      CA  1619556268  "
      ]
     },
     "execution_count": 27,
     "metadata": {},
     "output_type": "execute_result"
    }
   ],
   "source": [
    "#New DataFrame for Northern Hemisphere\n",
    "northern_hem_df = city_df.loc[city_df[\"Lat\"] >= 0]\n",
    "northern_hem_df"
   ]
  },
  {
   "cell_type": "code",
   "execution_count": 43,
   "metadata": {},
   "outputs": [
    {
     "data": {
      "text/html": [
       "<div>\n",
       "<style scoped>\n",
       "    .dataframe tbody tr th:only-of-type {\n",
       "        vertical-align: middle;\n",
       "    }\n",
       "\n",
       "    .dataframe tbody tr th {\n",
       "        vertical-align: top;\n",
       "    }\n",
       "\n",
       "    .dataframe thead th {\n",
       "        text-align: right;\n",
       "    }\n",
       "</style>\n",
       "<table border=\"1\" class=\"dataframe\">\n",
       "  <thead>\n",
       "    <tr style=\"text-align: right;\">\n",
       "      <th></th>\n",
       "      <th>City</th>\n",
       "      <th>Lat</th>\n",
       "      <th>Lng</th>\n",
       "      <th>Max Temp</th>\n",
       "      <th>Humidity</th>\n",
       "      <th>Cloudiness</th>\n",
       "      <th>Wind Speed</th>\n",
       "      <th>Country</th>\n",
       "      <th>Date</th>\n",
       "    </tr>\n",
       "  </thead>\n",
       "  <tbody>\n",
       "    <tr>\n",
       "      <th>0</th>\n",
       "      <td>Lebu</td>\n",
       "      <td>-37.6167</td>\n",
       "      <td>-73.6500</td>\n",
       "      <td>13.57</td>\n",
       "      <td>74</td>\n",
       "      <td>0</td>\n",
       "      <td>4.89</td>\n",
       "      <td>CL</td>\n",
       "      <td>1619444329</td>\n",
       "    </tr>\n",
       "    <tr>\n",
       "      <th>3</th>\n",
       "      <td>Alta Floresta</td>\n",
       "      <td>-9.8756</td>\n",
       "      <td>-56.0861</td>\n",
       "      <td>24.00</td>\n",
       "      <td>100</td>\n",
       "      <td>90</td>\n",
       "      <td>1.54</td>\n",
       "      <td>BR</td>\n",
       "      <td>1619444330</td>\n",
       "    </tr>\n",
       "    <tr>\n",
       "      <th>5</th>\n",
       "      <td>Atuona</td>\n",
       "      <td>-9.8000</td>\n",
       "      <td>-139.0333</td>\n",
       "      <td>26.44</td>\n",
       "      <td>69</td>\n",
       "      <td>100</td>\n",
       "      <td>6.26</td>\n",
       "      <td>PF</td>\n",
       "      <td>1619444331</td>\n",
       "    </tr>\n",
       "    <tr>\n",
       "      <th>8</th>\n",
       "      <td>Bambous Virieux</td>\n",
       "      <td>-20.3428</td>\n",
       "      <td>57.7575</td>\n",
       "      <td>26.00</td>\n",
       "      <td>78</td>\n",
       "      <td>75</td>\n",
       "      <td>7.20</td>\n",
       "      <td>MU</td>\n",
       "      <td>1619444331</td>\n",
       "    </tr>\n",
       "    <tr>\n",
       "      <th>9</th>\n",
       "      <td>Puerto Ayora</td>\n",
       "      <td>-0.7393</td>\n",
       "      <td>-90.3518</td>\n",
       "      <td>24.52</td>\n",
       "      <td>82</td>\n",
       "      <td>19</td>\n",
       "      <td>3.25</td>\n",
       "      <td>EC</td>\n",
       "      <td>1619444332</td>\n",
       "    </tr>\n",
       "    <tr>\n",
       "      <th>...</th>\n",
       "      <td>...</td>\n",
       "      <td>...</td>\n",
       "      <td>...</td>\n",
       "      <td>...</td>\n",
       "      <td>...</td>\n",
       "      <td>...</td>\n",
       "      <td>...</td>\n",
       "      <td>...</td>\n",
       "      <td>...</td>\n",
       "    </tr>\n",
       "    <tr>\n",
       "      <th>672</th>\n",
       "      <td>Natal</td>\n",
       "      <td>-5.7950</td>\n",
       "      <td>-35.2094</td>\n",
       "      <td>30.00</td>\n",
       "      <td>62</td>\n",
       "      <td>75</td>\n",
       "      <td>7.20</td>\n",
       "      <td>BR</td>\n",
       "      <td>1619444546</td>\n",
       "    </tr>\n",
       "    <tr>\n",
       "      <th>675</th>\n",
       "      <td>Bom Jesus</td>\n",
       "      <td>-9.0744</td>\n",
       "      <td>-44.3586</td>\n",
       "      <td>31.70</td>\n",
       "      <td>48</td>\n",
       "      <td>98</td>\n",
       "      <td>2.48</td>\n",
       "      <td>BR</td>\n",
       "      <td>1619444547</td>\n",
       "    </tr>\n",
       "    <tr>\n",
       "      <th>677</th>\n",
       "      <td>Talcahuano</td>\n",
       "      <td>-36.7167</td>\n",
       "      <td>-73.1167</td>\n",
       "      <td>13.00</td>\n",
       "      <td>82</td>\n",
       "      <td>40</td>\n",
       "      <td>4.63</td>\n",
       "      <td>CL</td>\n",
       "      <td>1619444548</td>\n",
       "    </tr>\n",
       "    <tr>\n",
       "      <th>679</th>\n",
       "      <td>Gobabis</td>\n",
       "      <td>-22.4500</td>\n",
       "      <td>18.9667</td>\n",
       "      <td>26.99</td>\n",
       "      <td>17</td>\n",
       "      <td>0</td>\n",
       "      <td>5.41</td>\n",
       "      <td>NA</td>\n",
       "      <td>1619444548</td>\n",
       "    </tr>\n",
       "    <tr>\n",
       "      <th>681</th>\n",
       "      <td>Viedma</td>\n",
       "      <td>-40.8135</td>\n",
       "      <td>-62.9967</td>\n",
       "      <td>16.76</td>\n",
       "      <td>50</td>\n",
       "      <td>23</td>\n",
       "      <td>6.39</td>\n",
       "      <td>AR</td>\n",
       "      <td>1619444549</td>\n",
       "    </tr>\n",
       "  </tbody>\n",
       "</table>\n",
       "<p>187 rows × 9 columns</p>\n",
       "</div>"
      ],
      "text/plain": [
       "                City      Lat       Lng  Max Temp  Humidity  Cloudiness  \\\n",
       "0               Lebu -37.6167  -73.6500     13.57        74           0   \n",
       "3      Alta Floresta  -9.8756  -56.0861     24.00       100          90   \n",
       "5             Atuona  -9.8000 -139.0333     26.44        69         100   \n",
       "8    Bambous Virieux -20.3428   57.7575     26.00        78          75   \n",
       "9       Puerto Ayora  -0.7393  -90.3518     24.52        82          19   \n",
       "..               ...      ...       ...       ...       ...         ...   \n",
       "672            Natal  -5.7950  -35.2094     30.00        62          75   \n",
       "675        Bom Jesus  -9.0744  -44.3586     31.70        48          98   \n",
       "677       Talcahuano -36.7167  -73.1167     13.00        82          40   \n",
       "679          Gobabis -22.4500   18.9667     26.99        17           0   \n",
       "681           Viedma -40.8135  -62.9967     16.76        50          23   \n",
       "\n",
       "     Wind Speed Country        Date  \n",
       "0          4.89      CL  1619444329  \n",
       "3          1.54      BR  1619444330  \n",
       "5          6.26      PF  1619444331  \n",
       "8          7.20      MU  1619444331  \n",
       "9          3.25      EC  1619444332  \n",
       "..          ...     ...         ...  \n",
       "672        7.20      BR  1619444546  \n",
       "675        2.48      BR  1619444547  \n",
       "677        4.63      CL  1619444548  \n",
       "679        5.41      NA  1619444548  \n",
       "681        6.39      AR  1619444549  \n",
       "\n",
       "[187 rows x 9 columns]"
      ]
     },
     "execution_count": 43,
     "metadata": {},
     "output_type": "execute_result"
    }
   ],
   "source": [
    "#New DataFrame for Southern Hemisphere\n",
    "southern_hem_df = city_df.loc[city_df[\"Lat\"] < 0]\n",
    "southern_hem_df"
   ]
  },
  {
   "cell_type": "markdown",
   "metadata": {},
   "source": [
    "### Northern Hemisphere- Max Temp vs. Latitude Linear Regression"
   ]
  },
  {
   "cell_type": "code",
   "execution_count": 44,
   "metadata": {},
   "outputs": [
    {
     "name": "stdout",
     "output_type": "stream",
     "text": [
      "The r-value is: -0.8423576106084786\n"
     ]
    },
    {
     "data": {
      "image/png": "[encoded data removed]",
      "text/plain": [
       "<Figure size 432x288 with 1 Axes>"
      ]
     },
     "metadata": {
      "needs_background": "light"
     },
     "output_type": "display_data"
    }
   ],
   "source": [
    "#Linear Regression for latitude and max temp for northern hemisphere\n",
    "x_values = northern_hem_df[\"Lat\"]\n",
    "y_values = northern_hem_df[\"Max Temp\"]\n",
    "(slope, intercept, rvalue, pvalue, stderr) = linregress(x_values, y_values)\n",
    "regress_values = x_values * slope + intercept\n",
    "line_eq = \"y = \" + str(round(slope,2)) + \"x + \" + str(round(intercept,2))\n",
    "\n",
    "plt.scatter(x_values,y_values)\n",
    "plt.plot(x_values,regress_values,\"r-\")\n",
    "plt.annotate(line_eq,(30,-15),fontsize=15,color=\"red\")\n",
    "plt.xlabel('Latitude')\n",
    "plt.ylabel('Max Temp')\n",
    "print(f\"The r-value is: {rvalue}\") \n",
    "plt.show()"
   ]
  },
  {
   "cell_type": "markdown",
   "metadata": {},
   "source": [
    "### Observations\n",
    "There is a negative coorelation between latitude and max temperature in the northern hemisphere."
   ]
  },
  {
   "cell_type": "markdown",
   "metadata": {},
   "source": [
    "### Southern Hemisphere- Max Temp vs. Latitude Linear Regression"
   ]
  },
  {
   "cell_type": "code",
   "execution_count": 45,
   "metadata": {},
   "outputs": [
    {
     "name": "stdout",
     "output_type": "stream",
     "text": [
      "The r-value is: 0.7630958218736345\n"
     ]
    },
    {
     "data": {
      "image/png": "[encoded data removed]",
      "text/plain": [
       "<Figure size 432x288 with 1 Axes>"
      ]
     },
     "metadata": {
      "needs_background": "light"
     },
     "output_type": "display_data"
    }
   ],
   "source": [
    "#Linear Regression for latitude and max temp for southern hemisphere\n",
    "\n",
    "x_values = southern_hem_df[\"Lat\"]\n",
    "y_values = southern_hem_df[\"Max Temp\"]\n",
    "(slope, intercept, rvalue, pvalue, stderr) = linregress(x_values, y_values)\n",
    "regress_values = x_values * slope + intercept\n",
    "line_eq = \"y = \" + str(round(slope,2)) + \"x + \" + str(round(intercept,2))\n",
    "\n",
    "plt.scatter(x_values,y_values)\n",
    "plt.plot(x_values,regress_values,\"r-\")\n",
    "plt.annotate(line_eq,(-10,10),fontsize=15,color=\"red\")\n",
    "plt.xlabel('Latitude')\n",
    "plt.ylabel('Max Temp')\n",
    "print(f\"The r-value is: {rvalue}\") \n",
    "plt.show()"
   ]
  },
  {
   "cell_type": "markdown",
   "metadata": {},
   "source": [
    "### Observation\n",
    "There is a positive coorelation between latitude and max temp in the southern hemisphere."
   ]
  },
  {
   "cell_type": "markdown",
   "metadata": {},
   "source": [
    "### Northern Hemisphere- Humidity (%) vs. Latitude Linear Regression"
   ]
  },
  {
   "cell_type": "code",
   "execution_count": 46,
   "metadata": {},
   "outputs": [
    {
     "name": "stdout",
     "output_type": "stream",
     "text": [
      "The r-value is: 0.20023164672802776\n"
     ]
    },
    {
     "data": {
      "image/png": "[encoded data removed]",
      "text/plain": [
       "<Figure size 432x288 with 1 Axes>"
      ]
     },
     "metadata": {
      "needs_background": "light"
     },
     "output_type": "display_data"
    }
   ],
   "source": [
    "#Linear Regression for latitude and humidity for northern hemisphere\n",
    "\n",
    "x_values = northern_hem_df[\"Lat\"]\n",
    "y_values = northern_hem_df[\"Humidity\"]\n",
    "(slope, intercept, rvalue, pvalue, stderr) = linregress(x_values, y_values)\n",
    "regress_values = x_values * slope + intercept\n",
    "line_eq = \"y = \" + str(round(slope,2)) + \"x + \" + str(round(intercept,2))\n",
    "\n",
    "plt.scatter(x_values,y_values)\n",
    "plt.plot(x_values,regress_values,\"r-\")\n",
    "plt.annotate(line_eq,(30,90),fontsize=15,color=\"red\")\n",
    "plt.xlabel('Latitude')\n",
    "plt.ylabel('Humidity')\n",
    "print(f\"The r-value is: {rvalue}\") \n",
    "plt.show()"
   ]
  },
  {
   "cell_type": "markdown",
   "metadata": {},
   "source": [
    "### Observations\n",
    "There is no coorelation between humidity and latitude in the northern hemisphere."
   ]
  },
  {
   "cell_type": "markdown",
   "metadata": {},
   "source": [
    "### Southern Hemisphere- Humidity (%) vs. Latitude Linear Regression"
   ]
  },
  {
   "cell_type": "code",
   "execution_count": 47,
   "metadata": {},
   "outputs": [
    {
     "name": "stdout",
     "output_type": "stream",
     "text": [
      "The r-value is: -0.025288332440544625\n"
     ]
    },
    {
     "data": {
      "image/png": "[encoded data removed]",
      "text/plain": [
       "<Figure size 432x288 with 1 Axes>"
      ]
     },
     "metadata": {
      "needs_background": "light"
     },
     "output_type": "display_data"
    }
   ],
   "source": [
    "#Linear Regression for latitude and humidity for southern hemisphere\n",
    "\n",
    "x_values = southern_hem_df[\"Lat\"]\n",
    "y_values = southern_hem_df[\"Humidity\"]\n",
    "(slope, intercept, rvalue, pvalue, stderr) = linregress(x_values, y_values)\n",
    "regress_values = x_values * slope + intercept\n",
    "line_eq = \"y = \" + str(round(slope,2)) + \"x + \" + str(round(intercept,2))\n",
    "\n",
    "plt.scatter(x_values,y_values)\n",
    "plt.plot(x_values,regress_values,\"r-\")\n",
    "plt.annotate(line_eq,(30,90),fontsize=15,color=\"red\")\n",
    "plt.xlabel('Latitude')\n",
    "plt.ylabel('Humidity')\n",
    "print(f\"The r-value is: {rvalue}\") \n",
    "plt.show()"
   ]
  },
  {
   "cell_type": "markdown",
   "metadata": {},
   "source": [
    "### Northern Hemisphere - Cloudiness (%) vs. Latitude Linear Regression"
   ]
  },
  {
   "cell_type": "code",
   "execution_count": 48,
   "metadata": {},
   "outputs": [
    {
     "name": "stdout",
     "output_type": "stream",
     "text": [
      "The r-value is: 0.09794002348941289\n"
     ]
    },
    {
     "data": {
      "image/png": "[encoded data removed]",
      "text/plain": [
       "<Figure size 432x288 with 1 Axes>"
      ]
     },
     "metadata": {
      "needs_background": "light"
     },
     "output_type": "display_data"
    }
   ],
   "source": [
    "#Linear Regression for latitude and cloudiness for northern hemisphere\n",
    "\n",
    "x_values = northern_hem_df[\"Lat\"]\n",
    "y_values = northern_hem_df[\"Cloudiness\"]\n",
    "(slope, intercept, rvalue, pvalue, stderr) = linregress(x_values, y_values)\n",
    "regress_values = x_values * slope + intercept\n",
    "line_eq = \"y = \" + str(round(slope,2)) + \"x + \" + str(round(intercept,2))\n",
    "\n",
    "plt.scatter(x_values,y_values)\n",
    "plt.plot(x_values,regress_values,\"r-\")\n",
    "plt.annotate(line_eq,(30,90),fontsize=15,color=\"red\")\n",
    "plt.xlabel('Latitude')\n",
    "plt.ylabel('Cloudiness')\n",
    "print(f\"The r-value is: {rvalue}\") \n",
    "plt.show()"
   ]
  },
  {
   "cell_type": "markdown",
   "metadata": {},
   "source": [
    "### Southern Hemisphere - Cloudiness (%) vs. Latitude Linear Regression"
   ]
  },
  {
   "cell_type": "code",
   "execution_count": 49,
   "metadata": {},
   "outputs": [
    {
     "name": "stdout",
     "output_type": "stream",
     "text": [
      "The r-value is: 0.13943322458766036\n"
     ]
    },
    {
     "data": {
      "image/png": "[encoded data removed]",
      "text/plain": [
       "<Figure size 432x288 with 1 Axes>"
      ]
     },
     "metadata": {
      "needs_background": "light"
     },
     "output_type": "display_data"
    }
   ],
   "source": [
    "#Linear Regression for latitude and cloudiness for southern hemisphere\n",
    "\n",
    "x_values = southern_hem_df[\"Lat\"]\n",
    "y_values = southern_hem_df[\"Cloudiness\"]\n",
    "(slope, intercept, rvalue, pvalue, stderr) = linregress(x_values, y_values)\n",
    "regress_values = x_values * slope + intercept\n",
    "line_eq = \"y = \" + str(round(slope,2)) + \"x + \" + str(round(intercept,2))\n",
    "\n",
    "plt.scatter(x_values,y_values)\n",
    "plt.plot(x_values,regress_values,\"r-\")\n",
    "plt.annotate(line_eq,(30,90),fontsize=15,color=\"red\")\n",
    "plt.xlabel('Latitude')\n",
    "plt.ylabel('Cloudiness')\n",
    "print(f\"The r-value is: {rvalue}\") \n",
    "plt.show()"
   ]
  },
  {
   "cell_type": "markdown",
   "metadata": {},
   "source": [
    "### Northern Hemisphere - Wind Speed (mph) vs. Latitude Linear Regression"
   ]
  },
  {
   "cell_type": "code",
   "execution_count": 50,
   "metadata": {},
   "outputs": [
    {
     "name": "stdout",
     "output_type": "stream",
     "text": [
      "The r-value is: 0.12642775135831585\n"
     ]
    },
    {
     "data": {
      "image/png": "[encoded data removed]",
      "text/plain": [
       "<Figure size 432x288 with 1 Axes>"
      ]
     },
     "metadata": {
      "needs_background": "light"
     },
     "output_type": "display_data"
    }
   ],
   "source": [
    "#Linear Regression for latitude and wind speed for northern hemisphere\n",
    "\n",
    "x_values = northern_hem_df[\"Lat\"]\n",
    "y_values = northern_hem_df[\"Wind Speed\"]\n",
    "(slope, intercept, rvalue, pvalue, stderr) = linregress(x_values, y_values)\n",
    "regress_values = x_values * slope + intercept\n",
    "line_eq = \"y = \" + str(round(slope,2)) + \"x + \" + str(round(intercept,2))\n",
    "\n",
    "plt.scatter(x_values,y_values)\n",
    "plt.plot(x_values,regress_values,\"r-\")\n",
    "plt.annotate(line_eq,(30,8),fontsize=15,color=\"red\")\n",
    "plt.xlabel('Latitude')\n",
    "plt.ylabel('Wind Speed')\n",
    "print(f\"The r-value is: {rvalue}\") \n",
    "plt.show()"
   ]
  },
  {
   "cell_type": "code",
   "execution_count": 51,
   "metadata": {},
   "outputs": [
    {
     "name": "stdout",
     "output_type": "stream",
     "text": [
      "The r-value is: 0.007930322008873199\n"
     ]
    },
    {
     "data": {
      "image/png": "[encoded data removed]",
      "text/plain": [
       "<Figure size 432x288 with 1 Axes>"
      ]
     },
     "metadata": {
      "needs_background": "light"
     },
     "output_type": "display_data"
    }
   ],
   "source": [
    "#Linear Regression for latitude and wind speed for southern hemisphere\n",
    "\n",
    "x_values = southern_hem_df[\"Lat\"]\n",
    "y_values = southern_hem_df[\"Wind Speed\"]\n",
    "(slope, intercept, rvalue, pvalue, stderr) = linregress(x_values, y_values)\n",
    "regress_values = x_values * slope + intercept\n",
    "line_eq = \"y = \" + str(round(slope,2)) + \"x + \" + str(round(intercept,2))\n",
    "\n",
    "plt.scatter(x_values,y_values)\n",
    "plt.plot(x_values,regress_values,\"r-\")\n",
    "plt.annotate(line_eq,(-50, 7),fontsize=15,color=\"red\")\n",
    "plt.xlabel('Latitude')\n",
    "plt.ylabel('Wind Speed')\n",
    "print(f\"The r-value is: {rvalue}\") \n",
    "plt.show()"
   ]
  },
  {
   "cell_type": "code",
   "execution_count": null,
   "metadata": {},
   "outputs": [],
   "source": []
  },
  {
   "cell_type": "code",
   "execution_count": null,
   "metadata": {},
   "outputs": [],
   "source": []
  }
 ],
 "metadata": {
  "kernelspec": {
   "display_name": "Python [conda env:PythonData] *",
   "language": "python",
   "name": "conda-env-PythonData-py"
  },
  "language_info": {
   "codemirror_mode": {
    "name": "ipython",
    "version": 3
   },
   "file_extension": ".py",
   "mimetype": "text/x-python",
   "name": "python",
   "nbconvert_exporter": "python",
   "pygments_lexer": "ipython3",
   "version": "3.6.10"
  }
 },
 "nbformat": 4,
 "nbformat_minor": 4
}
